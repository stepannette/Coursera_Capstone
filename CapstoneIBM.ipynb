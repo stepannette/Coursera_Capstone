{
    "cells": [
        {
            "cell_type": "markdown",
            "metadata": {},
            "source": "# Young Scientist in Search for the Dream City"
        },
        {
            "cell_type": "markdown",
            "metadata": {},
            "source": "_Anna A. Stepanova, Ph.D_"
        },
        {
            "cell_type": "markdown",
            "metadata": {},
            "source": "<a id=\"item1\"></a>\n## Introduction/Business Problem"
        },
        {
            "cell_type": "markdown",
            "metadata": {},
            "source": "Here I present a Capstone Project for IBM Specialization.\n\nThe BioWiz University of Wonderland is organizing a job fair for BioTechMed School. In the preliminary survey of young scientists - graduate students and postdocs of the University, the Career Development Office identified a list of factors for choosing an ideal work location. By the time of the job fair, the office needs to prepare a review of the best cities suitable for young scientists and their families. It'll become a basis for the recommendation system that ranks the cities based on the respondent's requests and expectations.\nLet's review the list of factors. First of all, it should be a city known for its biotech or biomedical research. All affiliates of BioWiz U follow the best trends in education and recognize that physical activity matters not only for their health but for their creativity and work performance. Therefore, in general, respondents found essential dance studios, bike paths and shops, stadiums. Among recreational spots, the most common choice fell to theaters, museums, art galleries, and nightlife spots. For most respondents, the crime rate and availability of good preschools were crucial because they had families with kids. A group of respondents insisted on having a developed public transportation system. Non-essential yet popular requests were outdoors and recreations, scenic look-outs, trails, and spiritual centers. Respondents with certain health conditions were opposed to living in cities with hot and humid climates. \nDuring the job fair, BioWiz U will present their project, identify critical factors for choosing a dream city, and suggest ways to apply similar recommendation systems in other departments and universities. The latter will include the discussion of surveys, how to translate these data into a problem that can be solved by data scientists. "
        },
        {
            "cell_type": "markdown",
            "metadata": {},
            "source": "## Table of Contents\n\n\n1. [Introduction/Business Problem](#item1)\n2. [Data](#item2)\n\n\n"
        },
        {
            "cell_type": "markdown",
            "metadata": {},
            "source": "<a id=\"item2\"></a>\n## Data"
        },
        {
            "cell_type": "markdown",
            "metadata": {},
            "source": ""
        }
    ],
    "metadata": {
        "kernelspec": {
            "display_name": "Python 3.6",
            "language": "python",
            "name": "python3"
        },
        "language_info": {
            "codemirror_mode": {
                "name": "ipython",
                "version": 3
            },
            "file_extension": ".py",
            "mimetype": "text/x-python",
            "name": "python",
            "nbconvert_exporter": "python",
            "pygments_lexer": "ipython3",
            "version": "3.6.9"
        }
    },
    "nbformat": 4,
    "nbformat_minor": 4
}